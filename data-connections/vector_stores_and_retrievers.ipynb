{
  "cells": [
    {
      "cell_type": "markdown",
      "metadata": {
        "id": "1uYai3YOtmJb"
      },
      "source": [
        "# Vector Stores"
      ]
    },
    {
      "cell_type": "markdown",
      "metadata": {
        "id": "EoxZR_KQtpr4"
      },
      "source": [
        "## Confirming that libraries are installed"
      ]
    },
    {
      "cell_type": "markdown",
      "metadata": {
        "id": "2d4PbL6QtsF5"
      },
      "source": [
        "## Importing libraries and API key"
      ]
    },
    {
      "cell_type": "code",
      "execution_count": null,
      "metadata": {
        "id": "5UR7l0SjTzI4"
      },
      "outputs": [],
      "source": [
        "\n",
        "import chromadb\n",
        "from langchain.embeddings import OpenAIEmbeddings\n",
        "from langchain.text_splitter import CharacterTextSplitter\n",
        "from langchain.vectorstores import Chroma\n",
        "from langchain.document_loaders import TextLoader\n",
        "\n"
      ]
    },
    {
      "cell_type": "markdown",
      "metadata": {
        "id": "ts4HJBhAtZhi"
      },
      "source": [
        "## Loading and splitting the documents"
      ]
    },
    {
      "cell_type": "code",
      "execution_count": null,
      "metadata": {
        "id": "DHP6uq2sjpiJ"
      },
      "outputs": [],
      "source": [
        "loader = TextLoader(\"FDR_State_of_Union_1944.txt\")\n",
        "documents = loader.load()\n",
        "text_splitter = CharacterTextSplitter.from_tiktoken_encoder(chunk_size=500)\n",
        "docs = text_splitter.split_documents(documents)"
      ]
    },
    {
      "cell_type": "markdown",
      "metadata": {
        "id": "CT-zTPcztdXg"
      },
      "source": [
        "## Creating the embeddings"
      ]
    },
    {
      "cell_type": "code",
      "execution_count": null,
      "metadata": {
        "id": "2IERLhHaoD9I"
      },
      "outputs": [],
      "source": [
        "embedding_function = OpenAIEmbeddings()"
      ]
    },
    {
      "cell_type": "markdown",
      "metadata": {
        "id": "CExPtcfItgTQ"
      },
      "source": [
        "## Creating the database"
      ]
    },
    {
      "cell_type": "code",
      "execution_count": null,
      "metadata": {
        "id": "l67srlRkrrmA"
      },
      "outputs": [],
      "source": [
        "db = Chroma.from_documents(docs, embedding_function, persist_directory=\"./speech_new_db\")"
      ]
    },
    {
      "cell_type": "code",
      "execution_count": null,
      "metadata": {
        "id": "bZTii0oDszYI"
      },
      "outputs": [],
      "source": [
        "db.persist()"
      ]
    },
    {
      "cell_type": "code",
      "execution_count": null,
      "metadata": {
        "id": "IUmLm-D1zA5I"
      },
      "outputs": [],
      "source": [
        "db_new_connection = Chroma(persist_directory='./speech_new_db', embedding_function=embedding_function)\n",
        "# necessary if you restart the computer"
      ]
    },
    {
      "cell_type": "markdown",
      "metadata": {
        "id": "jIEOchhS1PXo"
      },
      "source": [
        "## Doing a similarity search"
      ]
    },
    {
      "cell_type": "code",
      "execution_count": null,
      "metadata": {
        "id": "Uy3YTk0J1Q1y"
      },
      "outputs": [],
      "source": [
        "new_doc = \"What did FDR say about the cost of food law?\"\n",
        "# All Chroma will do is return which document has the most similar language to this prompt. You could just write \"cost of food law, FDR\" and it would probably get the same result."
      ]
    },
    {
      "cell_type": "code",
      "execution_count": null,
      "metadata": {
        "id": "T5kjeuMd2QXA"
      },
      "outputs": [],
      "source": [
        "similar_docs = db.similarity_search(new_doc)"
      ]
    },
    {
      "cell_type": "code",
      "execution_count": null,
      "metadata": {
        "colab": {
          "base_uri": "https://localhost:8080/"
        },
        "id": "s_0UVfFE2hoo",
        "outputId": "cf1f8bbf-f99d-43c2-cb3f-14d28188c155"
      },
      "outputs": [],
      "source": [
        "print(similar_docs[0].page_content)\n",
        "# by default it returns the four most similar documents, going from most to least similar"
      ]
    },
    {
      "cell_type": "markdown",
      "metadata": {
        "id": "QgwPbUH13mt5"
      },
      "source": [
        "## Loading another document into the database"
      ]
    },
    {
      "cell_type": "code",
      "execution_count": null,
      "metadata": {
        "id": "7DdzUOZM3pkI"
      },
      "outputs": [],
      "source": [
        "loader = TextLoader(\"Lincoln_State_of_Union_1862.txt\")\n",
        "documents = loader.load()"
      ]
    },
    {
      "cell_type": "code",
      "execution_count": null,
      "metadata": {
        "colab": {
          "base_uri": "https://localhost:8080/"
        },
        "id": "lZPG0Y1C4ADQ",
        "outputId": "b2a7c61f-9c2c-4990-9b68-2061e9d45058"
      },
      "outputs": [],
      "source": [
        "docs = text_splitter.split_documents(documents)\n",
        "# the warnings are because it's shorter and harder to make reasonable chunks of exactly 500"
      ]
    },
    {
      "cell_type": "code",
      "execution_count": null,
      "metadata": {
        "id": "xW86qCMT4T_p"
      },
      "outputs": [],
      "source": [
        "db = Chroma.from_documents(docs, embedding_function, persist_directory=\"./speech_new_db\")"
      ]
    },
    {
      "cell_type": "code",
      "execution_count": null,
      "metadata": {
        "id": "hyOym1SU4sxq"
      },
      "outputs": [],
      "source": [
        "docs = db.similarity_search(\"slavery\")"
      ]
    },
    {
      "cell_type": "code",
      "execution_count": null,
      "metadata": {
        "colab": {
          "base_uri": "https://localhost:8080/"
        },
        "id": "X-1mr_gr4xCR",
        "outputId": "7a6c28fc-d177-44a0-acb2-141478fe2548"
      },
      "outputs": [],
      "source": [
        "print(docs[0].page_content)"
      ]
    },
    {
      "cell_type": "code",
      "execution_count": null,
      "metadata": {
        "id": "RvzpX3555JNh"
      },
      "outputs": [],
      "source": [
        "docs = db.similarity_search(\"cost of food law\")"
      ]
    },
    {
      "cell_type": "code",
      "execution_count": null,
      "metadata": {
        "colab": {
          "base_uri": "https://localhost:8080/"
        },
        "id": "g8Wct8U_5LYh",
        "outputId": "7284a455-567d-434c-e2e7-41b5881bbdee"
      },
      "outputs": [],
      "source": [
        "print(docs[0].page_content)\n",
        "# by this you can check that the database has borth speeches in it"
      ]
    },
    {
      "cell_type": "code",
      "execution_count": null,
      "metadata": {
        "colab": {
          "base_uri": "https://localhost:8080/"
        },
        "id": "LR2iOlbg5lQQ",
        "outputId": "be47dc95-4ae0-4e58-c0f2-9001912293e3"
      },
      "outputs": [],
      "source": [
        "print(docs[0].metadata)\n",
        "# this shows which source it's from"
      ]
    },
    {
      "cell_type": "markdown",
      "metadata": {
        "id": "9ybioDy9EBUg"
      },
      "source": [
        "## Using a vector store retriever"
      ]
    },
    {
      "cell_type": "code",
      "execution_count": null,
      "metadata": {
        "id": "wHud4oVnEGR2"
      },
      "outputs": [],
      "source": [
        "retriever = db.as_retriever()\n",
        "# this retriever object will be the basis of multi query retrieval and context compression"
      ]
    },
    {
      "cell_type": "code",
      "execution_count": null,
      "metadata": {
        "id": "CqzF8FlqEOBm"
      },
      "outputs": [],
      "source": [
        "results = retriever.get_relevant_documents(\"cost of food law\")"
      ]
    },
    {
      "cell_type": "code",
      "execution_count": null,
      "metadata": {
        "colab": {
          "base_uri": "https://localhost:8080/"
        },
        "id": "2pXpiK55EUWv",
        "outputId": "bbf97e6d-9f8d-4b6f-f4bd-894ecbafa03e"
      },
      "outputs": [],
      "source": [
        "print(results[0].page_content)"
      ]
    }
  ],
  "metadata": {
    "colab": {
      "provenance": []
    },
    "kernelspec": {
      "display_name": "Python 3",
      "name": "python3"
    },
    "language_info": {
      "name": "python"
    }
  },
  "nbformat": 4,
  "nbformat_minor": 0
}
