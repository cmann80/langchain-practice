{
  "cells": [
    {
      "cell_type": "markdown",
      "id": "728f1747-b8fc-4d31-96c2-047fc83c079d",
      "metadata": {
        "id": "728f1747-b8fc-4d31-96c2-047fc83c079d"
      },
      "source": [
        "#  Data Connections Exercise\n",
        "\n",
        "## Ask a Legal Research Assistant Bot about the US Constitution\n",
        "\n",
        "Your function should do the following:\n",
        "\n",
        "* Read the US_Constitution.txt file inside the some_data folder\n",
        "* Split this into chunks (you choose the size)\n",
        "* Write this to a ChromaDB Vector Store\n",
        "* Use Context Compression to return the relevant portion of the document to the question"
      ]
    },
    {
      "cell_type": "code",
      "execution_count": null,
      "id": "3a17f111-e290-4ffc-b614-4d10e5673087",
      "metadata": {
        "id": "3a17f111-e290-4ffc-b614-4d10e5673087"
      },
      "outputs": [],
      "source": [
        "# Build a sample vectorDB\n",
        "from langchain.vectorstores import Chroma\n",
        "from langchain.chat_models import ChatOpenAI\n",
        "from langchain.document_loaders import TextLoader\n",
        "from langchain.embeddings.openai import OpenAIEmbeddings\n",
        "from langchain.text_splitter import CharacterTextSplitter\n",
        "from langchain.retrievers import ContextualCompressionRetriever\n",
        "from langchain.retrievers.document_compressors import LLMChainExtractor\n"
      ]
    },
    {
      "cell_type": "code",
      "execution_count": null,
      "id": "dc7dafe9-7e3b-4bb5-abeb-4c99b66f623b",
      "metadata": {
        "id": "dc7dafe9-7e3b-4bb5-abeb-4c99b66f623b"
      },
      "outputs": [],
      "source": [
        "def us_constitution_helper(question):\n",
        "    '''\n",
        "    Takes in a question about the US Constitution and returns the most relevant\n",
        "    part of the constitution. Notice it may not directly answer the actual question!\n",
        "\n",
        "    Follow the steps below to fill out this function:\n",
        "    '''\n",
        "    # PART ONE:\n",
        "    # LOAD \"some_data/US_Constitution in a Document object\n",
        "    loader = TextLoader(\"US_Constitution.txt\")\n",
        "    documents = loader.load()\n",
        "\n",
        "    # PART TWO\n",
        "    # Split the document into chunks (you choose how and what size)\n",
        "    text_splitter = CharacterTextSplitter.from_tiktoken_encoder(chunk_size=500)\n",
        "    docs = text_splitter.split_documents(documents)\n",
        "\n",
        "    # PART THREE\n",
        "    # EMBED THE Documents (now in chunks) to a persisted ChromaDB\n",
        "    embedding_function = OpenAIEmbeddings(api_key=openai_api_key)\n",
        "    db = Chroma.from_documents(docs, embedding_function, persist_directory=\"./constitution_db\")\n",
        "    db.persist()\n",
        "\n",
        "    # PART FOUR\n",
        "    # Use ChatOpenAI and ContextualCompressionRetriever to return the most\n",
        "    # relevant part of the documents.\n",
        "    llm = ChatOpenAI(temperature = 0)\n",
        "    compressor = LLMChainExtractor.from_llm(llm)\n",
        "    compression_retriever = ContextualCompressionRetriever(base_compressor = compressor, base_retriever = db.as_retriever())\n",
        "    compressed_docs = compression_retriever.get_relevant_documents(question)\n",
        "\n",
        "    if not compressed_docs:\n",
        "        return \"No relevant part of the US Constitution was found for this question.\"\n",
        "\n",
        "    return compressed_docs[0].page_content"
      ]
    },
    {
      "cell_type": "markdown",
      "id": "e36c9e44-c166-4724-a1a9-98dfde0721d7",
      "metadata": {
        "id": "e36c9e44-c166-4724-a1a9-98dfde0721d7"
      },
      "source": [
        "## Example Usage:\n",
        "\n",
        "Notice how it doesn't return an entire Document of a large chunk size, but instead the \"compressed\" version!"
      ]
    },
    {
      "cell_type": "code",
      "execution_count": null,
      "id": "b6ca1a37-bc2f-49de-af25-22bc7437bff0",
      "metadata": {
        "colab": {
          "base_uri": "https://localhost:8080/"
        },
        "id": "b6ca1a37-bc2f-49de-af25-22bc7437bff0",
        "outputId": "cbf29546-6891-43be-ba92-e88c6c83bf92"
      },
      "outputs": [],
      "source": [
        "print(us_constitution_helper(\"What is a chicken?\"))"
      ]
    }
  ],
  "metadata": {
    "colab": {
      "provenance": []
    },
    "kernelspec": {
      "display_name": "Python 3 (ipykernel)",
      "language": "python",
      "name": "python3"
    },
    "language_info": {
      "codemirror_mode": {
        "name": "ipython",
        "version": 3
      },
      "file_extension": ".py",
      "mimetype": "text/x-python",
      "name": "python",
      "nbconvert_exporter": "python",
      "pygments_lexer": "ipython3",
      "version": "3.9.12"
    }
  },
  "nbformat": 4,
  "nbformat_minor": 5
}
