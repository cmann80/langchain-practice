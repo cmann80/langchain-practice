{
 "cells": [
  {
   "cell_type": "markdown",
   "id": "728f1747-b8fc-4d31-96c2-047fc83c079d",
   "metadata": {},
   "source": [
    "#  Document Loading Exercise \n",
    "\n",
    "## Answering a Single Question\n",
    "\n",
    "Using the Wikipedia Document Loader Integration,can you make a function that accepts a famous historical figure name and a question about them, and then uses a ChatModel to answer questions with the additional context? Notice how in our example, the query doesn't mention the famous person. Keep in mind there are many potential ways to solve this problem!"
   ]
  },
  {
   "cell_type": "code",
   "execution_count": null,
   "id": "2a539244-89c6-4019-8608-1cdf51ba1983",
   "metadata": {},
   "outputs": [],
   "source": [
    "from langchain.prompts import (\n",
    "    ChatPromptTemplate,\n",
    "    SystemMessagePromptTemplate,\n",
    "    HumanMessagePromptTemplate,\n",
    ")\n",
    "from langchain.chat_models import ChatOpenAI\n",
    "from langchain.document_loaders import WikipediaLoader\n",
    "model = ChatOpenAI()\n",
    "\n",
    "def answer_question_about(person_name,question):\n",
    "    \n",
    "    '''\n",
    "    Use the Wikipedia Document Loader to help answer questions about someone, insert it as additional helpful context.\n",
    "    First get the person, and from that get the correct wikipedia document\n",
    "    {wikipedia document page content}: answer the user's question: {question}\n",
    "    '''\n",
    "    document = WikipediaLoader(query=person_name, load_max_docs=2).load()\n",
    "    \n",
    "    print(document[0].page_content)\n",
    "    \n",
    "    system_prompt = SystemMessagePromptTemplate.from_template(\"based on {document} answer the user's question: {question}\")\n",
    "    chat_prompt = ChatPromptTemplate.from_messages([system_prompt])\n",
    "    \n",
    "    answer = model(chat_prompt.format_prompt(document = document, question = question).to_messages())\n",
    "    \n",
    "    return answer.content"
   ]
  },
  {
   "cell_type": "code",
   "execution_count": null,
   "id": "e3a43963-57d4-44c5-8d28-b6164b2c0b83",
   "metadata": {},
   "outputs": [],
   "source": [
    "answer_question_about(\"Yoshitomo Tokugawa\",\"when was he born?\")"
   ]
  }
 ],
 "metadata": {
  "kernelspec": {
   "display_name": "Python 3 (ipykernel)",
   "language": "python",
   "name": "python3"
  },
  "language_info": {
   "codemirror_mode": {
    "name": "ipython",
    "version": 3
   },
   "file_extension": ".py",
   "mimetype": "text/x-python",
   "name": "python",
   "nbconvert_exporter": "python",
   "pygments_lexer": "ipython3",
   "version": "3.10.13"
  }
 },
 "nbformat": 4,
 "nbformat_minor": 5
}
