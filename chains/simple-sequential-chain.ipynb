{
 "cells": [
  {
   "cell_type": "markdown",
   "metadata": {},
   "source": [
    "## Simple Sequential Chain"
   ]
  },
  {
   "cell_type": "code",
   "execution_count": 4,
   "metadata": {},
   "outputs": [],
   "source": [
    "from langchain_openai import ChatOpenAI\n",
    "from langchain.prompts.chat import ChatPromptTemplate, HumanMessagePromptTemplate\n",
    "from langchain.chains import LLMChain, SimpleSequentialChain"
   ]
  },
  {
   "cell_type": "code",
   "execution_count": 5,
   "metadata": {},
   "outputs": [],
   "source": [
    "llm = ChatOpenAI()"
   ]
  },
  {
   "cell_type": "markdown",
   "metadata": {},
   "source": [
    "## Setting up chain objects"
   ]
  },
  {
   "cell_type": "code",
   "execution_count": 6,
   "metadata": {},
   "outputs": [],
   "source": [
    "template = \"Give me a simple bullet point outline for a blog post on {topic}\"\n",
    "first_prompt = ChatPromptTemplate.from_template(template)\n",
    "chain_one = LLMChain(llm=llm, prompt= first_prompt)\n"
   ]
  },
  {
   "cell_type": "code",
   "execution_count": 7,
   "metadata": {},
   "outputs": [],
   "source": [
    "template2 = \"Write a blog post using this outline {outline}\"\n",
    "second_prompt = ChatPromptTemplate.from_template(template2)\n",
    "chain_two = LLMChain(llm=llm, prompt= second_prompt)\n"
   ]
  },
  {
   "cell_type": "code",
   "execution_count": 8,
   "metadata": {},
   "outputs": [],
   "source": [
    "template3 = \"Write a 100-word summary of this blog post {post}\"\n",
    "third_prompt = ChatPromptTemplate.from_template(template3)\n",
    "chain_three = LLMChain(llm=llm, prompt= third_prompt)\n",
    "# Here the LLM chains will all have the same model call, but they don't have to, though that's uncommon"
   ]
  },
  {
   "cell_type": "markdown",
   "metadata": {},
   "source": [
    "## Linking objects together to make full chain"
   ]
  },
  {
   "cell_type": "code",
   "execution_count": 10,
   "metadata": {},
   "outputs": [],
   "source": [
    "full_chain = SimpleSequentialChain(chains=[chain_one, chain_two, chain_three], verbose = True)\n",
    "# Simple chains automatically know that chain one produces an output that is called {outline} in chain two. The downside is you can only have one input per chain object\n",
    "# Without verbose = True it won't show anything but the final output. It's another limitation of simple sequential chain. You know, to keep it simple."
   ]
  },
  {
   "cell_type": "markdown",
   "metadata": {},
   "source": [
    "## Running the full chain"
   ]
  },
  {
   "cell_type": "code",
   "execution_count": 11,
   "metadata": {},
   "outputs": [
    {
     "name": "stderr",
     "output_type": "stream",
     "text": [
      "/home/codespace/.python/current/lib/python3.10/site-packages/langchain_core/_api/deprecation.py:117: LangChainDeprecationWarning: The function `run` was deprecated in LangChain 0.1.0 and will be removed in 0.2.0. Use invoke instead.\n",
      "  warn_deprecated(\n"
     ]
    },
    {
     "name": "stdout",
     "output_type": "stream",
     "text": [
      "\n",
      "\n",
      "\u001b[1m> Entering new SimpleSequentialChain chain...\u001b[0m\n",
      "\u001b[36;1m\u001b[1;3m- Introduction to the RX-79 Gundam: Briefly explain what the RX-79 Gundam is and its significance in the Gundam franchise.\n",
      "- Origin and Design: Discuss the origins of the RX-79 Gundam, including its creation and design process.\n",
      "- Features and Specifications: Highlight the key features and specifications of the RX-79 Gundam, such as its armaments, mobility, and special abilities.\n",
      "- Pilots and Battles: Explore notable pilots who have used the RX-79 Gundam in battles, and discuss some of the significant battles in which the Gundam has been involved.\n",
      "- Impact and Popularity: Discuss the impact of the RX-79 Gundam on the Gundam franchise and its popularity among fans.\n",
      "- Legacy and Influence: Explain how the RX-79 Gundam has influenced subsequent Gundam series and the mecha genre as a whole.\n",
      "- Merchandise and Fan Community: Mention the availability of RX-79 Gundam merchandise and the dedicated fan community surrounding the Gundam franchise.\n",
      "- Conclusion: Summarize the key points discussed in the blog post and express the enduring appeal of the RX-79 Gundam.\u001b[0m\n",
      "\u001b[33;1m\u001b[1;3mIntroduction to the RX-79 Gundam: A Legendary Mecha Marvel\n",
      "\n",
      "When it comes to the world of mecha anime, there are few franchises as iconic as Gundam. Since its inception in 1979, Gundam has captured the hearts of fans worldwide with its thrilling battles, complex characters, and awe-inspiring mobile suits. Among the vast array of mobile suits in the Gundam universe, one that stands out as a symbol of power, resilience, and hope is the RX-79 Gundam. In this blog post, we will delve into the origins, design, notable pilots, battles, impact, and influence of the RX-79 Gundam, as well as its merchandise and dedicated fan community.\n",
      "\n",
      "Origin and Design: Forged in the Fires of War\n",
      "\n",
      "The RX-79 Gundam made its first appearance in the classic 1979 series, \"Mobile Suit Gundam.\" In the fictional Universal Century timeline, it was developed by the Earth Federation Forces as a response to the threat posed by the Principality of Zeon's mobile suits. The Gundam was created under the guidance of the brilliant engineer, Tem Ray, who sought to create a mobile suit that could rival Zeon's powerful forces.\n",
      "\n",
      "The design process of the RX-79 Gundam was no easy task. Engineers faced numerous challenges, ranging from the development of new materials to the integration of cutting-edge technology. The result was a sleek and agile mobile suit that incorporated the latest advancements in weaponry, armor, and mobility. The Gundam's iconic white and blue color scheme, along with its imposing stature, instantly made it a fan favorite.\n",
      "\n",
      "Features and Specifications: A Formidable Force on the Battlefield\n",
      "\n",
      "The RX-79 Gundam boasted an impressive array of features and specifications that set it apart from other mobile suits of its time. Its armament included a beam rifle, beam saber, and a shield for defense. The Gundam's mobility was enhanced by its thrusters, allowing it to navigate through various terrains and engage enemies with unmatched speed and precision. Additionally, its special abilities included the ability to generate an electromagnetic field to disrupt enemy sensors, granting it a tactical advantage in battle.\n",
      "\n",
      "Pilots and Battles: Legends in the Cockpit\n",
      "\n",
      "Over the years, the RX-79 Gundam has been manned by several notable pilots who have left an indelible mark on the Gundam franchise. One such pilot is Amuro Ray, the protagonist of the original \"Mobile Suit Gundam\" series. Amuro's journey as the Gundam's pilot, his growth as a character, and his pivotal role in numerous battles have made him an iconic figure in mecha anime.\n",
      "\n",
      "The Gundam has been involved in several significant battles throughout the Gundam franchise. From the epic Battle of Solomon to the intense struggles during the One Year War, the RX-79 Gundam has showcased its power, resilience, and ability to turn the tide of war. These battles have not only shaped the Gundam universe but also captivated fans with their intensity and emotional depth.\n",
      "\n",
      "Impact and Popularity: A Beacon of Hope\n",
      "\n",
      "The RX-79 Gundam has had a profound impact on the Gundam franchise and has become one of the most popular mobile suits among fans. Its design, abilities, and the sheer presence it exudes have made it an enduring symbol of hope and heroism. The Gundam's story of a lone warrior standing against the forces of oppression resonates with audiences, inspiring them to believe in the power of courage and determination.\n",
      "\n",
      "Legacy and Influence: Paving the Way for Future Mecha Marvels\n",
      "\n",
      "The RX-79 Gundam's influence extends far beyond its own series. Its success paved the way for countless subsequent Gundam series and ignited a revolution in the mecha genre as a whole. The Gundam franchise introduced a level of realism, political intrigue, and character development that elevated mecha anime to new heights. The RX-79 Gundam's impact can be seen in the design and storytelling choices of later mecha series, ensuring its legacy continues to shape the genre.\n",
      "\n",
      "Merchandise and Fan Community: A World Beyond the Screen\n",
      "\n",
      "The popularity of the RX-79 Gundam has given rise to a wide range of merchandise, allowing fans to bring a piece of the Gundam universe into their daily lives. From action figures and model kits to clothing and accessories, the Gundam franchise has created a thriving market for fans to explore and collect.\n",
      "\n",
      "Furthermore, the Gundam franchise has fostered a dedicated fan community that spans across the globe. Fans gather at conventions, online forums, and social media platforms to discuss their love for the RX-79 Gundam and share their passion for the Gundam universe. This community serves as a testament to the enduring appeal and impact of the Gundam franchise.\n",
      "\n",
      "Conclusion: A Legend That Transcends Time\n",
      "\n",
      "The RX-79 Gundam remains an iconic symbol of power, resilience, and hope within the Gundam franchise. Its origins, design, notable pilots, battles, impact, and influence have left an indelible mark on the world of mecha anime. As fans continue to celebrate its legacy and eagerly anticipate future Gundam series, the RX-79 Gundam will forever stand as a testament to the enduring power of the human spirit and the limitless possibilities of the mecha genre.\u001b[0m\n",
      "\u001b[38;5;200m\u001b[1;3mThe RX-79 Gundam is a legendary mecha from the Gundam franchise that has captivated fans worldwide since its debut in 1979. This blog post explores the origin and design of the Gundam, highlighting its development as a response to a threat posed by the Principality of Zeon's mobile suits. The Gundam's impressive features and specifications, such as its armament and mobility, are discussed, along with its notable pilots and their involvement in significant battles. The impact and popularity of the RX-79 Gundam are explored, as well as its legacy and influence on the mecha genre. Additionally, the thriving merchandise market and dedicated fan community surrounding the Gundam franchise are highlighted. Overall, the RX-79 Gundam remains a symbol of power and hope that continues to inspire fans and shape the mecha genre.\u001b[0m\n",
      "\n",
      "\u001b[1m> Finished chain.\u001b[0m\n"
     ]
    }
   ],
   "source": [
    "result = full_chain.run(\"The RX-79 Gundam\")"
   ]
  }
 ],
 "metadata": {
  "kernelspec": {
   "display_name": "Python 3",
   "language": "python",
   "name": "python3"
  },
  "language_info": {
   "codemirror_mode": {
    "name": "ipython",
    "version": 3
   },
   "file_extension": ".py",
   "mimetype": "text/x-python",
   "name": "python",
   "nbconvert_exporter": "python",
   "pygments_lexer": "ipython3",
   "version": "3.10.13"
  }
 },
 "nbformat": 4,
 "nbformat_minor": 2
}
