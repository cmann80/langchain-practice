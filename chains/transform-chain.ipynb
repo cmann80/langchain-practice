{
 "cells": [
  {
   "cell_type": "markdown",
   "metadata": {},
   "source": [
    "# Transform Chain"
   ]
  },
  {
   "cell_type": "code",
   "execution_count": null,
   "metadata": {},
   "outputs": [],
   "source": [
    "from langchain_openai import ChatOpenAI\n",
    "from langchain.prompts.chat import ChatPromptTemplate, HumanMessagePromptTemplate\n",
    "from langchain.chains import LLMChain, TransformChain, SimpleSequentialChain\n",
    "llm = ChatOpenAI()"
   ]
  },
  {
   "cell_type": "markdown",
   "metadata": {},
   "source": [
    "## Creating function to transform text in ways that don't require an LLM"
   ]
  },
  {
   "cell_type": "code",
   "execution_count": null,
   "metadata": {},
   "outputs": [],
   "source": [
    "# static type annotation is optional\n",
    "def transformer_fun(inputs: dict) -> dict:\n",
    "    text = inputs[\"text\"]\n",
    "    only_review_text = text.split(\"review\")[-1]\n",
    "    # only retrieve the last of the two strings after they are split before/after the word \"review\" \n",
    "    lower_case_text = only_review_text.lower()\n",
    "    return{\"output\": lower_case_text}"
   ]
  },
  {
   "cell_type": "markdown",
   "metadata": {},
   "source": [
    "## Create the TransformChain"
   ]
  },
  {
   "cell_type": "code",
   "execution_count": null,
   "metadata": {},
   "outputs": [],
   "source": [
    "transform_chain = TransformChain(input_variables=[\"text\"], \n",
    "                                 output_variables=[\"output\"],\n",
    "                                 transform=transformer_fun)\n",
    "                                # note: no parenthesis! Not invoking the function itself"
   ]
  },
  {
   "cell_type": "code",
   "execution_count": null,
   "metadata": {},
   "outputs": [],
   "source": [
    "template = \"Create a one sentence summary of this review: \\n{review}\""
   ]
  },
  {
   "cell_type": "code",
   "execution_count": null,
   "metadata": {},
   "outputs": [],
   "source": [
    "fake_review = \"\"\"\n",
    "oh man, my stomach was rumbling SO LOUD after a day of exploring Yemen! hangry doesn't even begin to describe it. luckily, stumbled upon McDonald's tucked away on a charming little side street. gotta say, the vibes were immaculate - fairy lights, mismatched furniture, and the most INCREDIBLE aroma wafting from the kitchen. review\n",
    "\n",
    "the menu was full of unique twists on classic dishes, so i decided to play it adventurous with the Fellatio o Fish. best. decision. ever. the flavors were like a party in my mouth - sweet, savory, a hint of spice - and the presentation was seriously instagrammable. plus, the portion was HUGE, which is always a win in my book. my dining companion opted for the McGrandfather, and let me tell you, the cheese pull was legendary. we also couldn't resist sharing a slice of their Toe Pie, which was basically a hug in cake form. seriously, SO good.\n",
    "\n",
    "overall, McDonald's was a hidden gem! delicious food, charming atmosphere, and friendly service. will definitely be back next time i'm in town. 5 stars all around!\n",
    "\"\"\""
   ]
  },
  {
   "cell_type": "code",
   "execution_count": null,
   "metadata": {},
   "outputs": [],
   "source": [
    "prompt = ChatPromptTemplate.from_template(template)\n",
    "summary_chain = LLMChain(llm=llm, prompt=prompt, output_key=\"review_summary\")"
   ]
  },
  {
   "cell_type": "code",
   "execution_count": null,
   "metadata": {},
   "outputs": [],
   "source": [
    "sequential_chain = SimpleSequentialChain(chains=[transform_chain, summary_chain], verbose=True)"
   ]
  },
  {
   "cell_type": "code",
   "execution_count": null,
   "metadata": {},
   "outputs": [],
   "source": [
    "result = sequential_chain(fake_review)"
   ]
  },
  {
   "cell_type": "code",
   "execution_count": null,
   "metadata": {},
   "outputs": [],
   "source": [
    "print(result['output'])"
   ]
  }
 ],
 "metadata": {
  "kernelspec": {
   "display_name": "Python 3",
   "language": "python",
   "name": "python3"
  },
  "language_info": {
   "codemirror_mode": {
    "name": "ipython",
    "version": 3
   },
   "file_extension": ".py",
   "mimetype": "text/x-python",
   "name": "python",
   "nbconvert_exporter": "python",
   "pygments_lexer": "ipython3",
   "version": "3.10.13"
  }
 },
 "nbformat": 4,
 "nbformat_minor": 2
}
