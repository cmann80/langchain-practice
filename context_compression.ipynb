{
  "cells": [
    {
      "cell_type": "markdown",
      "metadata": {
        "id": "UIxqLB9cScZF"
      },
      "source": [
        "# Context Compression"
      ]
    },
    {
      "cell_type": "code",
      "execution_count": null,
      "metadata": {
        "id": "xG1S3DENSn8V"
      },
      "outputs": [],
      "source": [
        "import chromadb\n",
        "from langchain.embeddings import OpenAIEmbeddings\n",
        "from langchain.text_splitter import CharacterTextSplitter\n",
        "from langchain.vectorstores import Chroma\n",
        "from langchain.chat_models import ChatOpenAI\n",
        "from langchain.document_loaders import TextLoader\n",
        "from langchain.document_loaders import WikipediaLoader\n",
        "from langchain.retrievers import ContextualCompressionRetriever\n",
        "from langchain.retrievers.document_compressors import LLMChainExtractor\n"
      ]
    },
    {
      "cell_type": "markdown",
      "metadata": {
        "id": "81Q3BZM3VS7F"
      },
      "source": [
        "## Download text, split and create embeddings"
      ]
    },
    {
      "cell_type": "code",
      "execution_count": null,
      "metadata": {
        "id": "mdwsIlyrUsU1"
      },
      "outputs": [],
      "source": [
        "loader = WikipediaLoader(query=\"MKUltra\")\n",
        "documents = loader.load()"
      ]
    },
    {
      "cell_type": "code",
      "execution_count": null,
      "metadata": {
        "id": "ppe8BJwTUxtl"
      },
      "outputs": [],
      "source": [
        "text_splitter = CharacterTextSplitter.from_tiktoken_encoder(chunk_size=500)\n",
        "docs = text_splitter.split_documents(documents)"
      ]
    },
    {
      "cell_type": "code",
      "execution_count": null,
      "metadata": {
        "id": "_ZxLpGQTTOtF"
      },
      "outputs": [],
      "source": [
        "embedding_function = OpenAIEmbeddings()\n",
        "db = Chroma.from_documents(docs, embedding_function, persist_directory=\"./MKUltra\")\n",
        "db.persist()"
      ]
    },
    {
      "cell_type": "markdown",
      "metadata": {
        "id": "DnGPpt2pVaKV"
      },
      "source": [
        "## Creating contextular compressor"
      ]
    },
    {
      "cell_type": "code",
      "execution_count": null,
      "metadata": {
        "id": "WUoO0seOVexP"
      },
      "outputs": [],
      "source": [
        "llm = ChatOpenAI(temperature = 0)\n",
        "compressor = LLMChainExtractor.from_llm(llm)"
      ]
    },
    {
      "cell_type": "code",
      "execution_count": null,
      "metadata": {
        "id": "o3Z0wq30VpgX"
      },
      "outputs": [],
      "source": [
        "compression_retriever = ContextualCompressionRetriever(base_compressor = compressor,\n",
        "                                                       base_retriever = db.as_retriever())"
      ]
    },
    {
      "cell_type": "code",
      "execution_count": null,
      "metadata": {
        "id": "epnx0-u0WRg1"
      },
      "outputs": [],
      "source": [
        "docs = db.similarity_search(\"when was this declassified?\")\n",
        "print(docs[0].page_content)\n",
        "# a normal similarity search which returns the whole chunk"
      ]
    },
    {
      "cell_type": "code",
      "execution_count": null,
      "metadata": {
        "id": "WiamAPNYWnjd"
      },
      "outputs": [],
      "source": [
        "compressed_docs = compression_retriever.get_relevant_documents(\"when was this declassified?\")\n"
      ]
    },
    {
      "cell_type": "code",
      "execution_count": null,
      "metadata": {
        "id": "rF4VX6YOXmmt"
      },
      "outputs": [],
      "source": [
        "print(compressed_docs[0].metadata[\"summary\"])\n",
        "# the compressed version SHOULD create a summary related to the question"
      ]
    }
  ],
  "metadata": {
    "colab": {
      "provenance": []
    },
    "kernelspec": {
      "display_name": "Python 3",
      "name": "python3"
    },
    "language_info": {
      "name": "python"
    }
  },
  "nbformat": 4,
  "nbformat_minor": 0
}
