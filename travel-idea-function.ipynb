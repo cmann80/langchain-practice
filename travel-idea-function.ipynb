{
 "cells": [
  {
   "cell_type": "markdown",
   "id": "a2ae1d2b",
   "metadata": {},
   "source": [
    "# A simple function to generate travel advice"
   ]
  },
  {
   "cell_type": "markdown",
   "id": "61be9ae0",
   "metadata": {},
   "source": [
    "## Loading the environment"
   ]
  },
  {
   "cell_type": "code",
   "execution_count": null,
   "id": "320be1cb-a639-460d-8472-fb6def536b19",
   "metadata": {},
   "outputs": [],
   "source": [
    "import os\n",
    "from dotenv import load_dotenv\n",
    "load_dotenv()"
   ]
  },
  {
   "cell_type": "markdown",
   "id": "f7abbd05",
   "metadata": {},
   "source": [
    "## Loading the libraries and initializing the chat"
   ]
  },
  {
   "cell_type": "code",
   "execution_count": null,
   "id": "1165d8a8",
   "metadata": {},
   "outputs": [],
   "source": [
    "from langchain.chat_models import ChatOpenAI\n",
    "from langchain.prompts import ChatPromptTemplate, PromptTemplate, SystemMessagePromptTemplate, HumanMessagePromptTemplate\n",
    "from langchain.schema import HumanMessage, SystemMessage\n",
    "\n",
    "chat = ChatOpenAI()"
   ]
  },
  {
   "cell_type": "markdown",
   "id": "1e8861c7",
   "metadata": {},
   "source": [
    "## Creating the function"
   ]
  },
  {
   "cell_type": "code",
   "execution_count": null,
   "id": "df2fd2ad-66f9-4462-9436-5cc5e7ea2d7f",
   "metadata": {},
   "outputs": [],
   "source": [
    "def travel_idea(interest,budget):\n",
    "    \n",
    "    # establish the system template \n",
    "    system_template = \"You are an AI travel agent that helps people plan trips about {interest} trip with a budget of {budget}\"\n",
    "    system_message_prompt = SystemMessagePromptTemplate.from_template(system_template)\n",
    "    system_message_prompt.input_variables\n",
    "    \n",
    "    human_template = \"please give me an example itinerary\"\n",
    "    human_message_prompt = HumanMessagePromptTemplate.from_template(human_template)\n",
    "    human_message_prompt.input_variables\n",
    "        \n",
    "    # apply the system template to the chat prompt\n",
    "    chat_prompt = ChatPromptTemplate.from_messages([system_message_prompt, human_message_prompt])\n",
    "    \n",
    "    # enter the parameters into the prompt\n",
    "    request = chat_prompt.format_prompt(interest=interest, budget=budget).to_messages()\n",
    "    \n",
    "    # generate the result\n",
    "    result = chat(request).content        \n",
    "    \n",
    "    return result"
   ]
  },
  {
   "cell_type": "markdown",
   "id": "d63d1ddd",
   "metadata": {},
   "source": [
    "## Executing the function"
   ]
  },
  {
   "cell_type": "code",
   "execution_count": null,
   "id": "f7e240b6-96cf-4163-ad19-90a44cf7ef24",
   "metadata": {},
   "outputs": [],
   "source": [
    "print(travel_idea('backpacking','$100'))"
   ]
  }
 ],
 "metadata": {
  "kernelspec": {
   "display_name": "Python 3 (ipykernel)",
   "language": "python",
   "name": "python3"
  },
  "language_info": {
   "codemirror_mode": {
    "name": "ipython",
    "version": 3
   },
   "file_extension": ".py",
   "mimetype": "text/x-python",
   "name": "python",
   "nbconvert_exporter": "python",
   "pygments_lexer": "ipython3",
   "version": "3.10.13"
  }
 },
 "nbformat": 4,
 "nbformat_minor": 5
}
