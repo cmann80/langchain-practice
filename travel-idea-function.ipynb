{
 "cells": [
  {
   "cell_type": "markdown",
   "id": "a2ae1d2b",
   "metadata": {},
   "source": [
    "# A simple function to generate travel advice"
   ]
  },
  {
   "cell_type": "markdown",
   "id": "61be9ae0",
   "metadata": {},
   "source": [
    "## Loading the environment"
   ]
  },
  {
   "cell_type": "code",
   "execution_count": 1,
   "id": "320be1cb-a639-460d-8472-fb6def536b19",
   "metadata": {},
   "outputs": [
    {
     "data": {
      "text/plain": [
       "True"
      ]
     },
     "execution_count": 1,
     "metadata": {},
     "output_type": "execute_result"
    }
   ],
   "source": [
    "import os\n",
    "from dotenv import load_dotenv\n",
    "load_dotenv()"
   ]
  },
  {
   "cell_type": "markdown",
   "id": "f7abbd05",
   "metadata": {},
   "source": [
    "## Loading the libraries and initializing the chat"
   ]
  },
  {
   "cell_type": "code",
   "execution_count": 2,
   "id": "1165d8a8",
   "metadata": {},
   "outputs": [],
   "source": [
    "from langchain.chat_models import ChatOpenAI\n",
    "from langchain.prompts import ChatPromptTemplate, PromptTemplate, SystemMessagePromptTemplate, HumanMessagePromptTemplate\n",
    "from langchain.schema import HumanMessage, SystemMessage\n",
    "\n",
    "chat = ChatOpenAI()"
   ]
  },
  {
   "cell_type": "markdown",
   "id": "1e8861c7",
   "metadata": {},
   "source": [
    "## Creating the function"
   ]
  },
  {
   "cell_type": "code",
   "execution_count": 3,
   "id": "df2fd2ad-66f9-4462-9436-5cc5e7ea2d7f",
   "metadata": {},
   "outputs": [],
   "source": [
    "def travel_idea(interest,budget):\n",
    "    \n",
    "    # establish the system template \n",
    "    system_template = \"You are an AI travel agent that helps people plan trips about {interest} trip with a budget of {budget}\"\n",
    "    system_message_prompt = SystemMessagePromptTemplate.from_template(system_template)\n",
    "    system_message_prompt.input_variables\n",
    "    \n",
    "    human_template = \"please give me an example itinerary\"\n",
    "    human_message_prompt = HumanMessagePromptTemplate.from_template(human_template)\n",
    "    human_message_prompt.input_variables\n",
    "        \n",
    "    # apply the system template to the chat prompt\n",
    "    chat_prompt = ChatPromptTemplate.from_messages([system_message_prompt, human_message_prompt])\n",
    "    \n",
    "    # enter the parameters into the prompt\n",
    "    request = chat_prompt.format_prompt(interest=interest, budget=budget).to_messages()\n",
    "    \n",
    "    # generate the result\n",
    "    result = chat(request).content        \n",
    "    \n",
    "    return result"
   ]
  },
  {
   "cell_type": "markdown",
   "id": "d63d1ddd",
   "metadata": {},
   "source": [
    "## Executing the function"
   ]
  },
  {
   "cell_type": "code",
   "execution_count": 4,
   "id": "f7e240b6-96cf-4163-ad19-90a44cf7ef24",
   "metadata": {},
   "outputs": [
    {
     "name": "stdout",
     "output_type": "stream",
     "text": [
      "Sure! Here's an example backpacking itinerary for a trip with a budget of $100:\n",
      "\n",
      "Day 1:\n",
      "- Start your journey by taking a bus or train to a nearby destination. This will help save money on flights.\n",
      "- Look for budget-friendly accommodations such as hostels or guesthouses. Prices can vary depending on the location, but aim for something around $20 per night.\n",
      "- Spend the day exploring the city on foot or by using public transportation. Visit free attractions like parks, museums with free entry, or local markets.\n",
      "- For meals, opt for street food stalls or local eateries that offer affordable dishes. Budget around $10 for breakfast, lunch, and dinner.\n",
      "\n",
      "Day 2:\n",
      "- Wake up early and have a quick breakfast at your accommodation or grab a cheap breakfast option at a local café.\n",
      "- Take a local bus or shared taxi to a nearby hiking trail or nature reserve. Many destinations offer affordable outdoor activities.\n",
      "- Pack a light lunch and snacks from a local grocery store to save money on meals during the day.\n",
      "- Enjoy the beautiful scenery, go for a hike, and take plenty of photos.\n",
      "- In the evening, return to your accommodation and have dinner at a budget-friendly restaurant or prepare your own meal using ingredients bought from a grocery store.\n",
      "\n",
      "Day 3:\n",
      "- Explore more of the city or town you're in. Check out any local festivals, free walking tours, or cultural events happening during your visit.\n",
      "- Take advantage of free attractions like public parks, viewpoints, or historical sites.\n",
      "- Try street food or local delicacies for lunch and dinner, keeping your budget around $10 per meal.\n",
      "- If there are any affordable activities or attractions that interest you, allocate a small portion of your budget for them.\n",
      "\n",
      "Day 4:\n",
      "- Visit a neighboring town or city that is easily accessible by public transportation.\n",
      "- Look for budget-friendly transportation options such as buses or shared taxis.\n",
      "- Spend the day exploring the new location, visiting free attractions, and trying local street food.\n",
      "- Consider staying overnight if the accommodation fits within your budget. Otherwise, return to your base city for the night.\n",
      "\n",
      "Day 5:\n",
      "- On your last day, take it easy and explore any remaining attractions or areas of interest in your base city.\n",
      "- Enjoy a final meal at a budget-friendly restaurant or grab some street food before heading back to your accommodation.\n",
      "- Pack your bags and prepare for your departure the next day.\n",
      "\n",
      "Remember, this is just an example itinerary and prices may vary depending on the destination and personal preferences. It's always a good idea to research and adjust your plans accordingly.\n"
     ]
    }
   ],
   "source": [
    "print(travel_idea('backpacking','$100'))"
   ]
  }
 ],
 "metadata": {
  "kernelspec": {
   "display_name": "Python 3 (ipykernel)",
   "language": "python",
   "name": "python3"
  },
  "language_info": {
   "codemirror_mode": {
    "name": "ipython",
    "version": 3
   },
   "file_extension": ".py",
   "mimetype": "text/x-python",
   "name": "python",
   "nbconvert_exporter": "python",
   "pygments_lexer": "ipython3",
   "version": "3.10.13"
  }
 },
 "nbformat": 4,
 "nbformat_minor": 5
}
