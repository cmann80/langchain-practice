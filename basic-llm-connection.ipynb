{
 "cells": [
  {
   "cell_type": "markdown",
   "metadata": {},
   "source": [
    "# Basic LLM completions"
   ]
  },
  {
   "cell_type": "markdown",
   "metadata": {},
   "source": [
    "## Loading the libraries and environment"
   ]
  },
  {
   "cell_type": "code",
   "execution_count": 3,
   "metadata": {},
   "outputs": [
    {
     "data": {
      "text/plain": [
       "True"
      ]
     },
     "execution_count": 3,
     "metadata": {},
     "output_type": "execute_result"
    }
   ],
   "source": [
    "from langchain.llms import OpenAI\n",
    "import os\n",
    "from dotenv import load_dotenv\n",
    "load_dotenv()\n",
    "# Langchain knows default names of LLM API keys already, like OPENAPI_API_KEY"
   ]
  },
  {
   "cell_type": "markdown",
   "metadata": {},
   "source": [
    "## Establishing OpenAI as the LLM in use"
   ]
  },
  {
   "cell_type": "code",
   "execution_count": 5,
   "metadata": {},
   "outputs": [],
   "source": [
    "llm = OpenAI()"
   ]
  },
  {
   "cell_type": "markdown",
   "metadata": {},
   "source": [
    "## Printing a single completion"
   ]
  },
  {
   "cell_type": "code",
   "execution_count": 6,
   "metadata": {},
   "outputs": [
    {
     "name": "stdout",
     "output_type": "stream",
     "text": [
      " \n",
      "\n",
      "1. Belgian Malinois\n",
      "2. Belgian Tervuren\n",
      "3. Belgian Groenendael\n",
      "4. Belgian Laekenois\n",
      "5. Belgian Mastiff\n",
      "6. Belgian Sheepdog\n",
      "7. Belgian Lakenois\n",
      "8. Belgian Laekense\n",
      "9. Belgian Malinois Mix\n",
      "10. Belgian Malinois Shepherd\n",
      "11. Belgian Sheepdog Mix\n",
      "12. Belgian Shepherd Dog\n",
      "13. Belgian Shepherd Laekenois\n",
      "14. Belgian Shepherd Tervuren\n",
      "15. Belgian Shepherd Groenendael\n"
     ]
    }
   ],
   "source": [
    "print(llm(\"Here's a list of the different varities of Belgian Shepards:\"))"
   ]
  },
  {
   "cell_type": "markdown",
   "metadata": {},
   "source": [
    "## Requesting multiple completions at once"
   ]
  },
  {
   "cell_type": "code",
   "execution_count": 7,
   "metadata": {},
   "outputs": [],
   "source": [
    "result = llm.generate([\"Here's a list of the different varities of Belgian Shepards:\", \"Here's a short description of the Belgian Maliois:\"])\n"
   ]
  },
  {
   "cell_type": "markdown",
   "metadata": {},
   "source": [
    "## Examining the reults"
   ]
  },
  {
   "cell_type": "code",
   "execution_count": 8,
   "metadata": {},
   "outputs": [
    {
     "data": {
      "text/plain": [
       "{'title': 'LLMResult',\n",
       " 'description': 'Class that contains all results for a batched LLM call.',\n",
       " 'type': 'object',\n",
       " 'properties': {'generations': {'title': 'Generations',\n",
       "   'type': 'array',\n",
       "   'items': {'type': 'array', 'items': {'$ref': '#/definitions/Generation'}}},\n",
       "  'llm_output': {'title': 'Llm Output', 'type': 'object'},\n",
       "  'run': {'title': 'Run',\n",
       "   'type': 'array',\n",
       "   'items': {'$ref': '#/definitions/RunInfo'}}},\n",
       " 'required': ['generations'],\n",
       " 'definitions': {'Generation': {'title': 'Generation',\n",
       "   'description': 'A single text generation output.',\n",
       "   'type': 'object',\n",
       "   'properties': {'text': {'title': 'Text', 'type': 'string'},\n",
       "    'generation_info': {'title': 'Generation Info', 'type': 'object'},\n",
       "    'type': {'title': 'Type',\n",
       "     'default': 'Generation',\n",
       "     'enum': ['Generation'],\n",
       "     'type': 'string'}},\n",
       "   'required': ['text']},\n",
       "  'RunInfo': {'title': 'RunInfo',\n",
       "   'description': 'Class that contains metadata for a single execution of a Chain or model.',\n",
       "   'type': 'object',\n",
       "   'properties': {'run_id': {'title': 'Run Id',\n",
       "     'type': 'string',\n",
       "     'format': 'uuid'}},\n",
       "   'required': ['run_id']}}}"
      ]
     },
     "execution_count": 8,
     "metadata": {},
     "output_type": "execute_result"
    }
   ],
   "source": [
    "result.schema()"
   ]
  },
  {
   "cell_type": "code",
   "execution_count": 9,
   "metadata": {},
   "outputs": [
    {
     "data": {
      "text/plain": [
       "{'token_usage': {'total_tokens': 228,\n",
       "  'completion_tokens': 201,\n",
       "  'prompt_tokens': 27},\n",
       " 'model_name': 'gpt-3.5-turbo-instruct'}"
      ]
     },
     "execution_count": 9,
     "metadata": {},
     "output_type": "execute_result"
    }
   ],
   "source": [
    "result.llm_output"
   ]
  },
  {
   "cell_type": "code",
   "execution_count": 11,
   "metadata": {},
   "outputs": [
    {
     "name": "stdout",
     "output_type": "stream",
     "text": [
      "[[Generation(text=' \\n\\n1. Belgian Malinois \\n2. Belgian Tervuren \\n3. Belgian Groenendael \\n4. Laekenois \\n5. Dutch Shepherd \\n6. Berger Picard \\n7. Bouvier des Flandres \\n8. Beauceron \\n9. Schipperke \\n10. Belgian Sheepdog (also known as the Belgian Lakenois)', generation_info={'finish_reason': 'stop', 'logprobs': None})], [Generation(text='\\n\\nThe Belgian Malinois is a medium to large-sized breed of dog that originated in Belgium. They are known for their athletic and muscular build, with a short, dense coat that is typically fawn or mahogany in color. This breed is highly intelligent and energetic, making them popular as working and sporting dogs. They are also commonly used in military and police work due to their high trainability and drive. The Belgian Malinois is a loyal and protective breed, but also requires a lot of physical and mental stimulation to thrive. With proper training and socialization, they can make excellent companions for active and experienced owners.', generation_info={'finish_reason': 'stop', 'logprobs': None})]]\n"
     ]
    }
   ],
   "source": [
    "result.generations"
   ]
  },
  {
   "cell_type": "markdown",
   "metadata": {},
   "source": [
    "## Printing each of the responses individually"
   ]
  },
  {
   "cell_type": "code",
   "execution_count": 14,
   "metadata": {},
   "outputs": [
    {
     "name": "stdout",
     "output_type": "stream",
     "text": [
      " \n",
      "\n",
      "1. Belgian Malinois \n",
      "2. Belgian Tervuren \n",
      "3. Belgian Groenendael \n",
      "4. Laekenois \n",
      "5. Dutch Shepherd \n",
      "6. Berger Picard \n",
      "7. Bouvier des Flandres \n",
      "8. Beauceron \n",
      "9. Schipperke \n",
      "10. Belgian Sheepdog (also known as the Belgian Lakenois)\n",
      "\n",
      "\n",
      "The Belgian Malinois is a medium to large-sized breed of dog that originated in Belgium. They are known for their athletic and muscular build, with a short, dense coat that is typically fawn or mahogany in color. This breed is highly intelligent and energetic, making them popular as working and sporting dogs. They are also commonly used in military and police work due to their high trainability and drive. The Belgian Malinois is a loyal and protective breed, but also requires a lot of physical and mental stimulation to thrive. With proper training and socialization, they can make excellent companions for active and experienced owners.\n"
     ]
    }
   ],
   "source": [
    "print(result.generations[0][0].text)\n",
    "print(result.generations[1][0].text)"
   ]
  }
 ],
 "metadata": {
  "kernelspec": {
   "display_name": "Python 3",
   "language": "python",
   "name": "python3"
  },
  "language_info": {
   "codemirror_mode": {
    "name": "ipython",
    "version": 3
   },
   "file_extension": ".py",
   "mimetype": "text/x-python",
   "name": "python",
   "nbconvert_exporter": "python",
   "pygments_lexer": "ipython3",
   "version": "3.10.13"
  }
 },
 "nbformat": 4,
 "nbformat_minor": 2
}
