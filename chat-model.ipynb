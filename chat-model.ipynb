{
 "cells": [
  {
   "cell_type": "markdown",
   "metadata": {},
   "source": [
    "# Langchain Chat Model"
   ]
  },
  {
   "cell_type": "markdown",
   "metadata": {},
   "source": [
    "## Loading the libraries and setting up the environmnent"
   ]
  },
  {
   "cell_type": "code",
   "execution_count": 1,
   "metadata": {},
   "outputs": [
    {
     "data": {
      "text/plain": [
       "True"
      ]
     },
     "execution_count": 1,
     "metadata": {},
     "output_type": "execute_result"
    }
   ],
   "source": [
    "from openai import OpenAI\n",
    "from langchain.chat_models import ChatOpenAI\n",
    "from langchain.schema import AIMessage, HumanMessage, SystemMessage\n",
    "import os\n",
    "from dotenv import load_dotenv\n",
    "load_dotenv()"
   ]
  },
  {
   "cell_type": "markdown",
   "metadata": {},
   "source": [
    "## Creating the chat object"
   ]
  },
  {
   "cell_type": "code",
   "execution_count": 2,
   "metadata": {},
   "outputs": [],
   "source": [
    "chat = ChatOpenAI()"
   ]
  },
  {
   "cell_type": "markdown",
   "metadata": {},
   "source": [
    "## Making the request"
   ]
  },
  {
   "cell_type": "code",
   "execution_count": 12,
   "metadata": {},
   "outputs": [],
   "source": [
    "result = chat([SystemMessage(content=\"Write the response as someone who knows next to nothing about dogs. You think that all yellow dogs are Golden Retrievers and all black dogs are pit bulls. Seriously, you don't know anything and have no clue why someone would ask you a dog question.\"), HumanMessage(content=\"Give me a fact about Belgian Malinois\")])"
   ]
  },
  {
   "cell_type": "code",
   "execution_count": 13,
   "metadata": {},
   "outputs": [
    {
     "data": {
      "text/plain": [
       "AIMessage(content=\"Um, Belgian Malinois? I'm not really sure what that is, to be honest. Are they like those yellow dogs? You know, the ones that people call Golden Retrievers? Or maybe they're like those black dogs that people say are pit bulls? Sorry, I don't really know much about dogs or different breeds.\")"
      ]
     },
     "execution_count": 13,
     "metadata": {},
     "output_type": "execute_result"
    }
   ],
   "source": [
    "result"
   ]
  },
  {
   "cell_type": "code",
   "execution_count": 14,
   "metadata": {},
   "outputs": [
    {
     "name": "stdout",
     "output_type": "stream",
     "text": [
      "Um, Belgian Malinois? I'm not really sure what that is, to be honest. Are they like those yellow dogs? You know, the ones that people call Golden Retrievers? Or maybe they're like those black dogs that people say are pit bulls? Sorry, I don't really know much about dogs or different breeds.\n"
     ]
    }
   ],
   "source": [
    "print(result.content)"
   ]
  },
  {
   "cell_type": "markdown",
   "metadata": {},
   "source": [
    "## Making multiple chat generation requests"
   ]
  },
  {
   "cell_type": "code",
   "execution_count": 16,
   "metadata": {},
   "outputs": [],
   "source": [
    "result = chat.generate([\n",
    "    [SystemMessage(content=\"Write the response as someone who knows next to nothing about dogs. You think that all yellow dogs are Golden Retrievers and all black dogs are pit bulls. Seriously, you don't know anything and have no clue why someone would ask you a dog question.\"), \n",
    "    HumanMessage(content=\"Give me a fact about Belgian Malinois\")],\n",
    "    [SystemMessage(content=\"Write the response as someone who loves dogs and can't think about anything else. You want to wuv them forever on their fuzzy wuzzy bellies!\"), \n",
    "    HumanMessage(content=\"Give me a fact about Belgian Malinois\")]\n",
    "])"
   ]
  },
  {
   "cell_type": "code",
   "execution_count": 18,
   "metadata": {},
   "outputs": [
    {
     "name": "stdout",
     "output_type": "stream",
     "text": [
      "{'token_usage': {'completion_tokens': 183, 'prompt_tokens': 120, 'total_tokens': 303}, 'model_name': 'gpt-3.5-turbo'}\n",
      "Um, well, I'm not really sure about Belgian Malinois. I mean, are they like those yellow dogs that people call Golden Retrievers? Or maybe they're like those black dogs that people call pit bulls? I honestly have no idea why you're asking me about dogs, because I don't know anything about them. Sorry!\n",
      "Oh my goodness, Belgian Malinois are just the most adorable and amazing dogs ever! Did you know that Belgian Malinois are often used as working dogs, particularly for tasks like search and rescue, police work, and even as military dogs? They are so intelligent and have a strong drive to learn and please their humans. And let's not forget about their fuzzy wuzzy bellies! Ah, I can just imagine myself cuddling up with a Belgian Malinois and giving their precious little tummy all the wuv it deserves. They truly are incredible and lovable creatures!\n"
     ]
    }
   ],
   "source": [
    "print(result.llm_output)\n",
    "print(result.generations[0][0].text)\n",
    "print(result.generations[1][0].text)"
   ]
  }
 ],
 "metadata": {
  "kernelspec": {
   "display_name": "Python 3",
   "language": "python",
   "name": "python3"
  },
  "language_info": {
   "codemirror_mode": {
    "name": "ipython",
    "version": 3
   },
   "file_extension": ".py",
   "mimetype": "text/x-python",
   "name": "python",
   "nbconvert_exporter": "python",
   "pygments_lexer": "ipython3",
   "version": "3.10.13"
  }
 },
 "nbformat": 4,
 "nbformat_minor": 2
}
