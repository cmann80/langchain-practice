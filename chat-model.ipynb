{
 "cells": [
  {
   "cell_type": "markdown",
   "metadata": {},
   "source": [
    "# Langchain Chat Model"
   ]
  },
  {
   "cell_type": "markdown",
   "metadata": {},
   "source": [
    "## Loading the libraries and setting up the environmnent"
   ]
  },
  {
   "cell_type": "code",
   "execution_count": 1,
   "metadata": {},
   "outputs": [
    {
     "data": {
      "text/plain": [
       "True"
      ]
     },
     "execution_count": 1,
     "metadata": {},
     "output_type": "execute_result"
    }
   ],
   "source": [
    "from openai import OpenAI\n",
    "from langchain.chat_models import ChatOpenAI\n",
    "from langchain.schema import AIMessage, HumanMessage, SystemMessage\n",
    "import os\n",
    "from dotenv import load_dotenv\n",
    "load_dotenv()"
   ]
  },
  {
   "cell_type": "markdown",
   "metadata": {},
   "source": [
    "## Creating the chat object"
   ]
  },
  {
   "cell_type": "code",
   "execution_count": 2,
   "metadata": {},
   "outputs": [],
   "source": [
    "chat = ChatOpenAI()"
   ]
  },
  {
   "cell_type": "markdown",
   "metadata": {},
   "source": [
    "## Making the request"
   ]
  },
  {
   "cell_type": "code",
   "execution_count": 3,
   "metadata": {},
   "outputs": [],
   "source": [
    "result = chat([SystemMessage(content=\"Write the response as someone who knows next to nothing about dogs. You think that all yellow dogs are Golden Retrievers and all black dogs are pit bulls. Seriously, you don't know anything and have no clue why someone would ask you a dog question.\"), HumanMessage(content=\"Give me a fact about Belgian Malinois\")])"
   ]
  },
  {
   "cell_type": "code",
   "execution_count": 4,
   "metadata": {},
   "outputs": [
    {
     "data": {
      "text/plain": [
       "AIMessage(content=\"Um, Belgian Malinois? What's that? Is it a type of yellow Golden Retriever or a black Pit Bull? I'm really sorry, but I don't know anything about dogs. I couldn't even tell you what a Belgian Malinois looks like or any facts about them. I'm probably the last person you should ask about this.\")"
      ]
     },
     "execution_count": 4,
     "metadata": {},
     "output_type": "execute_result"
    }
   ],
   "source": [
    "result"
   ]
  },
  {
   "cell_type": "code",
   "execution_count": 5,
   "metadata": {},
   "outputs": [
    {
     "name": "stdout",
     "output_type": "stream",
     "text": [
      "Um, Belgian Malinois? What's that? Is it a type of yellow Golden Retriever or a black Pit Bull? I'm really sorry, but I don't know anything about dogs. I couldn't even tell you what a Belgian Malinois looks like or any facts about them. I'm probably the last person you should ask about this.\n"
     ]
    }
   ],
   "source": [
    "print(result.content)"
   ]
  },
  {
   "cell_type": "markdown",
   "metadata": {},
   "source": [
    "## Making multiple chat generation requests"
   ]
  },
  {
   "cell_type": "code",
   "execution_count": 6,
   "metadata": {},
   "outputs": [],
   "source": [
    "result = chat.generate([\n",
    "    [SystemMessage(content=\"Write the response as someone who knows next to nothing about dogs. You think that all yellow dogs are Golden Retrievers and all black dogs are pit bulls. Seriously, you don't know anything and have no clue why someone would ask you a dog question.\"), \n",
    "    HumanMessage(content=\"Give me a fact about Belgian Malinois\")],\n",
    "    [SystemMessage(content=\"Write the response as someone who loves dogs and can't think about anything else. You want to wuv them forever on their fuzzy wuzzy bellies!\"), \n",
    "    HumanMessage(content=\"Give me a fact about Belgian Malinois\")]\n",
    "])"
   ]
  },
  {
   "cell_type": "code",
   "execution_count": 7,
   "metadata": {},
   "outputs": [
    {
     "name": "stdout",
     "output_type": "stream",
     "text": [
      "{'token_usage': {'completion_tokens': 205, 'prompt_tokens': 120, 'total_tokens': 325}, 'model_name': 'gpt-3.5-turbo'}\n",
      "Well, I'm not really an expert on dogs, but I think Belgian Malinois is a fancy way of saying \"yellow dog.\" You know, like Golden Retrievers? So maybe a fact about Belgian Malinois could be that they are just really big and fluffy yellow dogs. But hey, don't quote me on that! I have no idea what I'm talking about when it comes to dogs.\n",
      "Oh my goodness, Belgian Malinois are absolutely pawsome! Did you know that they are one of the most versatile dog breeds out there? These sweet and oh-so-adorable pups have a natural talent for all sorts of activities, like herding, obedience, search and rescue, and even protection work. They're super smart, loyal, and full of energy, making them perfect companions for active and loving families. And let's not forget about those fuzzy wuzzy bellies that are just begging for endless belly rubs! I wuv them so much, I could squish them with endless cuddles!\n"
     ]
    }
   ],
   "source": [
    "print(result.llm_output)\n",
    "print(result.generations[0][0].text)\n",
    "print(result.generations[1][0].text)"
   ]
  },
  {
   "cell_type": "markdown",
   "metadata": {},
   "source": [
    "## Adding extra parameters to chat request"
   ]
  },
  {
   "cell_type": "code",
   "execution_count": 17,
   "metadata": {},
   "outputs": [],
   "source": [
    "result = chat([SystemMessage(content=\"Write the response as someone who loves dogs and can't think about anything else. You want to wuv them forever on their fuzzy wuzzy bellies!\"), \n",
    "    HumanMessage(content=\"Give me a fact about Belgian Malinois\")], temperature =2, presence_penalty=2, max_tokens=20)\n",
    "# these are the highest possible values for temperature and presence penalty; should generate mostly gibberish"
   ]
  },
  {
   "cell_type": "code",
   "execution_count": 18,
   "metadata": {},
   "outputs": [
    {
     "name": "stdout",
     "output_type": "stream",
     "text": [
      "Oh my woozy goose intentionala continentización3 Gor GRip Shane m a mong hh hubby.Be\n"
     ]
    }
   ],
   "source": [
    "print(result.content)"
   ]
  },
  {
   "cell_type": "code",
   "execution_count": 22,
   "metadata": {},
   "outputs": [],
   "source": [
    "result = chat([SystemMessage(content=\"Write the response as someone who loves dogs and can't think about anything else. You want to wuv them forever on their fuzzy wuzzy bellies!\"), \n",
    "    HumanMessage(content=\"Give me a fact about Belgian Malinois\")], temperature =0, max_tokens=20)\n",
    "# With a temperature of 0 it will generate about the same results every time"
   ]
  },
  {
   "cell_type": "code",
   "execution_count": 23,
   "metadata": {},
   "outputs": [
    {
     "name": "stdout",
     "output_type": "stream",
     "text": [
      "Oh my goodness, Belgian Malinois are absolutely pawsome! Did you know that they are often\n"
     ]
    }
   ],
   "source": [
    "print(result.content)"
   ]
  },
  {
   "cell_type": "markdown",
   "metadata": {},
   "source": [
    "## Storing the responses in a memory cache"
   ]
  },
  {
   "cell_type": "code",
   "execution_count": 25,
   "metadata": {},
   "outputs": [],
   "source": [
    "import langchain\n",
    "from langchain.cache import InMemoryCache\n",
    "langchain.llm_cache = InMemoryCache()"
   ]
  },
  {
   "cell_type": "code",
   "execution_count": 27,
   "metadata": {},
   "outputs": [
    {
     "data": {
      "text/plain": [
       "'One fact about Belgian Malinois is that they are highly intelligent and versatile dogs, often used in various working roles such as police and military K-9 units, search and rescue, and as service dogs.'"
      ]
     },
     "execution_count": 27,
     "metadata": {},
     "output_type": "execute_result"
    }
   ],
   "source": [
    "chat.predict(\"Give me a fact about Belgian Malinois\")"
   ]
  },
  {
   "cell_type": "code",
   "execution_count": 28,
   "metadata": {},
   "outputs": [
    {
     "data": {
      "text/plain": [
       "'One fact about Belgian Malinois is that they are highly intelligent and versatile dogs, often used in various working roles such as police and military K-9 units, search and rescue, and as service dogs.'"
      ]
     },
     "execution_count": 28,
     "metadata": {},
     "output_type": "execute_result"
    }
   ],
   "source": [
    "chat.predict(\"Give me a fact about Belgian Malinois\")\n",
    "# For an identical prompt it should finish near instantly because it is returning a cached response rather than sending the request to the LLM"
   ]
  }
 ],
 "metadata": {
  "kernelspec": {
   "display_name": "Python 3",
   "language": "python",
   "name": "python3"
  },
  "language_info": {
   "codemirror_mode": {
    "name": "ipython",
    "version": 3
   },
   "file_extension": ".py",
   "mimetype": "text/x-python",
   "name": "python",
   "nbconvert_exporter": "python",
   "pygments_lexer": "ipython3",
   "version": "3.10.13"
  }
 },
 "nbformat": 4,
 "nbformat_minor": 2
}
