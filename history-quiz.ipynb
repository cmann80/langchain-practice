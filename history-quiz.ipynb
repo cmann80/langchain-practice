{
 "cells": [
  {
   "cell_type": "markdown",
   "metadata": {},
   "source": [
    "# History Quiz"
   ]
  },
  {
   "cell_type": "markdown",
   "metadata": {},
   "source": [
    "## Write a simple class with a few methods for:\n",
    "\n",
    "- Writing a historical question that has a date as the correct answer\n",
    "- Getting the correct answer from the LLM\n",
    "- Getting a human user's best guess at the correct answer\n",
    "- Checking/reporting the difference between the correct answer and the user's answer"
   ]
  },
  {
   "cell_type": "markdown",
   "metadata": {},
   "source": [
    "## Loading the libraries"
   ]
  },
  {
   "cell_type": "code",
   "execution_count": null,
   "metadata": {},
   "outputs": [],
   "source": [
    "from datetime import datetime\n",
    "from langchain.output_parsers import DatetimeOutputParser\n",
    "from langchain.chat_models import ChatOpenAI"
   ]
  },
  {
   "cell_type": "markdown",
   "metadata": {},
   "source": [
    "## Defining the class"
   ]
  },
  {
   "cell_type": "code",
   "execution_count": null,
   "metadata": {},
   "outputs": [],
   "source": [
    "class HistoryQuiz():\n",
    "    \n",
    "    def create_history_question(self, topic):\n",
    "        # this method should output a historical question about the topic that has a date as the correct answer\n",
    "        # such as \"on what date did world war 2 end?\"\n",
    "        system_template = \"Create a historical question about the topic {topic} \"\n",
    "        system_message_prompt = SystemMessagePromptTemplate.from_template(system_template)\n",
    "        system_message_prompt.input_variables\n",
    "        \n",
    "        chat_prompt = ChatPromptTemplate.from_messages([system_message_prompt])\n",
    "        chat_prompt.input_variables\n",
    "        \n",
    "        prompt = chat_prompt.format_prompt(topic=topic).to_messages()\n",
    "        \n",
    "        question = chat(prompt)\n",
    "        \n",
    "        return question\n",
    "    \n",
    "    def get_AI_answer(self, question):\n",
    "        \n",
    "        # This method should get the answer to the historical question from the method above, in datetime format:\n",
    "        # datetime.datetime(1945, 9, 2, 0, 0)\n",
    "        \n",
    "        return correct_datetime\n",
    "    \n",
    "    def get_user_answer(self, question):\n",
    "        \n",
    "        year = int(input(\"Enter year: \"))\n",
    "        month = int(input(\"Enter month (1-12): \"))\n",
    "        day = int(input(\"Enter day (1-31): \"))\n",
    "        \n",
    "        user_datetime = datetime(year, month, day)\n",
    "        \n",
    "        try:\n",
    "            return user_datetime\n",
    "        except ValueError as e:\n",
    "            return str(e)\n",
    "    \n",
    "    \n",
    "    def check_user_answer(self, user_answer, ai_answer):\n",
    "        \n",
    "                # This method should check the user answer against the AI answer and return the difference betwene them\n",
    "        return answer_difference\n",
    "        "
   ]
  },
  {
   "cell_type": "markdown",
   "metadata": {},
   "source": [
    "## Example usage:"
   ]
  },
  {
   "cell_type": "code",
   "execution_count": null,
   "metadata": {},
   "outputs": [],
   "source": [
    "quiz_bot = HistoryQuiz()"
   ]
  },
  {
   "cell_type": "markdown",
   "metadata": {},
   "source": [
    "### create the question"
   ]
  },
  {
   "cell_type": "code",
   "execution_count": null,
   "metadata": {},
   "outputs": [],
   "source": [
    "question = quiz_bot.create_history_question(topic=\"World War 2\")"
   ]
  },
  {
   "cell_type": "markdown",
   "metadata": {},
   "source": []
  },
  {
   "cell_type": "code",
   "execution_count": null,
   "metadata": {},
   "outputs": [],
   "source": [
    "question"
   ]
  },
  {
   "cell_type": "markdown",
   "metadata": {},
   "source": [
    "### Create the AI answer"
   ]
  },
  {
   "cell_type": "code",
   "execution_count": null,
   "metadata": {},
   "outputs": [],
   "source": [
    "ai_answer = quiz_bot.get_AI_answer(question)"
   ]
  },
  {
   "cell_type": "code",
   "execution_count": null,
   "metadata": {},
   "outputs": [],
   "source": [
    "ai_answer"
   ]
  },
  {
   "cell_type": "markdown",
   "metadata": {},
   "source": [
    "### Get the user answer"
   ]
  },
  {
   "cell_type": "code",
   "execution_count": null,
   "metadata": {},
   "outputs": [],
   "source": [
    "user_answer = quiz_bot.get_user_answer(question)"
   ]
  },
  {
   "cell_type": "code",
   "execution_count": null,
   "metadata": {},
   "outputs": [],
   "source": [
    "user_answer"
   ]
  },
  {
   "cell_type": "markdown",
   "metadata": {},
   "source": [
    "### Check the user answer"
   ]
  },
  {
   "cell_type": "code",
   "execution_count": null,
   "metadata": {},
   "outputs": [],
   "source": [
    "quiz_bot.check_user_ansewer(user_answer, ai_answer)"
   ]
  }
 ],
 "metadata": {
  "kernelspec": {
   "display_name": "Python 3",
   "language": "python",
   "name": "python3"
  },
  "language_info": {
   "codemirror_mode": {
    "name": "ipython",
    "version": 3
   },
   "file_extension": ".py",
   "mimetype": "text/x-python",
   "name": "python",
   "nbconvert_exporter": "python",
   "pygments_lexer": "ipython3",
   "version": "3.10.13"
  }
 },
 "nbformat": 4,
 "nbformat_minor": 2
}
