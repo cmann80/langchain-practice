{
 "cells": [
  {
   "cell_type": "markdown",
   "metadata": {},
   "source": [
    "# History Quiz"
   ]
  },
  {
   "cell_type": "markdown",
   "metadata": {},
   "source": [
    "## Write a simple class with a few methods for:\n",
    "\n",
    "- Writing a historical question that has a date as the correct answer\n",
    "- Getting the correct answer from the LLM\n",
    "- Getting a human user's best guess at the correct answer\n",
    "- Checking/reporting the difference between the correct answer and the user's answer"
   ]
  },
  {
   "cell_type": "markdown",
   "metadata": {},
   "source": [
    "## Loading the libraries"
   ]
  },
  {
   "cell_type": "code",
   "execution_count": 1,
   "metadata": {},
   "outputs": [],
   "source": [
    "from datetime import datetime\n",
    "from langchain.output_parsers import DatetimeOutputParser\n",
    "from langchain.chat_models import ChatOpenAI\n",
    "from langchain.prompts import ChatPromptTemplate, PromptTemplate, SystemMessagePromptTemplate, HumanMessagePromptTemplate, AIMessagePromptTemplate\n",
    "from langchain.schema import AIMessage, HumanMessage, SystemMessage\n",
    "\n",
    "chat = ChatOpenAI()\n",
    "output_parser = DatetimeOutputParser()"
   ]
  },
  {
   "cell_type": "markdown",
   "metadata": {},
   "source": [
    "## Defining the class"
   ]
  },
  {
   "cell_type": "code",
   "execution_count": 2,
   "metadata": {},
   "outputs": [],
   "source": [
    "class HistoryQuiz():\n",
    "    \n",
    "    def create_history_question(self, topic):\n",
    "        # this method should output a historical question about the topic that has a date as the correct answer\n",
    "        # such as \"on what date did world war 2 end?\"\n",
    "        system_template = \"Create a historical question about the topic {topic} where the correct answer is a year, month and day.\"\n",
    "        system_message_prompt = SystemMessagePromptTemplate.from_template(system_template)\n",
    "        system_message_prompt.input_variables\n",
    "        \n",
    "        chat_prompt = ChatPromptTemplate.from_messages([system_message_prompt])\n",
    "        chat_prompt.input_variables\n",
    "        \n",
    "        prompt = chat_prompt.format_prompt(topic=topic).to_messages()\n",
    "        \n",
    "        question = chat(prompt)\n",
    "        \n",
    "        return question\n",
    "    \n",
    "    def get_AI_answer(self, question):\n",
    "        \n",
    "        template_text = \"{request}\\n{format_instructions}\"\n",
    "        human_prompt = HumanMessagePromptTemplate.from_template(template_text)\n",
    "        \n",
    "        chat_prompt = ChatPromptTemplate.from_messages([human_prompt])\n",
    "        \n",
    "        model_request = chat_prompt.format_prompt(request=question, format_instructions=output_parser.get_format_instructions()).to_messages()\n",
    "        \n",
    "        result = chat(model_request, temperature=0)\n",
    "        \n",
    "        correct_datetime = output_parser.parse(result.content)\n",
    "        \n",
    "        return correct_datetime\n",
    "    \n",
    "    def get_user_answer(self, question):\n",
    "        \n",
    "        year = int(input(\"Enter year: \"))\n",
    "        month = int(input(\"Enter month (1-12): \"))\n",
    "        day = int(input(\"Enter day (1-31): \"))\n",
    "        \n",
    "        user_datetime = datetime(year, month, day)\n",
    "        \n",
    "        try:\n",
    "            return user_datetime\n",
    "        except ValueError as e:\n",
    "            return str(e)\n",
    "    \n",
    "    \n",
    "    def check_user_answer(self, user_answer, ai_answer):\n",
    "        \n",
    "        # This method should check the user answer against the AI answer and return the difference betwene them\n",
    "        time_delta = abs(user_answer - ai_answer)\n",
    "        days = time_delta.days\n",
    "              \n",
    "        answer_difference = f\"You were off by {days} days! Correct answer: {ai_answer}\"\n",
    "                                \n",
    "        return answer_difference\n",
    "        "
   ]
  },
  {
   "cell_type": "markdown",
   "metadata": {},
   "source": [
    "## Example usage:"
   ]
  },
  {
   "cell_type": "code",
   "execution_count": 3,
   "metadata": {},
   "outputs": [],
   "source": [
    "quiz_bot = HistoryQuiz()"
   ]
  },
  {
   "cell_type": "markdown",
   "metadata": {},
   "source": [
    "### create the question"
   ]
  },
  {
   "cell_type": "code",
   "execution_count": 4,
   "metadata": {},
   "outputs": [],
   "source": [
    "question = quiz_bot.create_history_question(topic=\"World War 2\")"
   ]
  },
  {
   "cell_type": "code",
   "execution_count": 5,
   "metadata": {},
   "outputs": [
    {
     "name": "stdout",
     "output_type": "stream",
     "text": [
      "On what date did the United States officially enter World War II?\n"
     ]
    }
   ],
   "source": [
    "print(question.content)"
   ]
  },
  {
   "cell_type": "markdown",
   "metadata": {},
   "source": [
    "### Create the AI answer"
   ]
  },
  {
   "cell_type": "code",
   "execution_count": 6,
   "metadata": {},
   "outputs": [],
   "source": [
    "ai_answer = quiz_bot.get_AI_answer(question)"
   ]
  },
  {
   "cell_type": "code",
   "execution_count": 7,
   "metadata": {},
   "outputs": [
    {
     "data": {
      "text/plain": [
       "datetime.datetime(1941, 12, 7, 0, 0)"
      ]
     },
     "execution_count": 7,
     "metadata": {},
     "output_type": "execute_result"
    }
   ],
   "source": [
    "ai_answer"
   ]
  },
  {
   "cell_type": "markdown",
   "metadata": {},
   "source": [
    "### Get the user answer"
   ]
  },
  {
   "cell_type": "code",
   "execution_count": 8,
   "metadata": {},
   "outputs": [],
   "source": [
    "user_answer = quiz_bot.get_user_answer(question)"
   ]
  },
  {
   "cell_type": "code",
   "execution_count": 9,
   "metadata": {},
   "outputs": [
    {
     "data": {
      "text/plain": [
       "datetime.datetime(1941, 4, 23, 0, 0)"
      ]
     },
     "execution_count": 9,
     "metadata": {},
     "output_type": "execute_result"
    }
   ],
   "source": [
    "user_answer"
   ]
  },
  {
   "cell_type": "markdown",
   "metadata": {},
   "source": [
    "### Check the user answer"
   ]
  },
  {
   "cell_type": "code",
   "execution_count": 10,
   "metadata": {},
   "outputs": [
    {
     "data": {
      "text/plain": [
       "'You were off by 228 days! Correct answer: 1941-12-07 00:00:00'"
      ]
     },
     "execution_count": 10,
     "metadata": {},
     "output_type": "execute_result"
    }
   ],
   "source": [
    "quiz_bot.check_user_answer(user_answer, ai_answer)"
   ]
  }
 ],
 "metadata": {
  "kernelspec": {
   "display_name": "Python 3",
   "language": "python",
   "name": "python3"
  },
  "language_info": {
   "codemirror_mode": {
    "name": "ipython",
    "version": 3
   },
   "file_extension": ".py",
   "mimetype": "text/x-python",
   "name": "python",
   "nbconvert_exporter": "python",
   "pygments_lexer": "ipython3",
   "version": "3.10.13"
  }
 },
 "nbformat": 4,
 "nbformat_minor": 2
}
